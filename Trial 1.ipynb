{
 "cells": [
  {
   "cell_type": "code",
   "execution_count": 1,
   "metadata": {},
   "outputs": [],
   "source": [
    "import requests\n",
    "import bs4\n",
    "import numpy as np"
   ]
  },
  {
   "cell_type": "code",
   "execution_count": 2,
   "metadata": {},
   "outputs": [],
   "source": [
    "res = requests.get('https://www.boxofficemojo.com/yearly/chart/?yr=2017&p=.htm')"
   ]
  },
  {
   "cell_type": "code",
   "execution_count": 3,
   "metadata": {},
   "outputs": [
    {
     "data": {
      "text/plain": [
       "bs4.BeautifulSoup"
      ]
     },
     "execution_count": 3,
     "metadata": {},
     "output_type": "execute_result"
    }
   ],
   "source": [
    "soup = bs4.BeautifulSoup(res.text, 'html.parser')\n",
    "type(soup)"
   ]
  },
  {
   "cell_type": "code",
   "execution_count": 4,
   "metadata": {},
   "outputs": [
    {
     "data": {
      "text/plain": [
       "[<title>2017 Yearly Box Office Results - Box Office Mojo</title>]"
      ]
     },
     "execution_count": 4,
     "metadata": {},
     "output_type": "execute_result"
    }
   ],
   "source": [
    "title = soup.select('title')\n",
    "title"
   ]
  },
  {
   "cell_type": "code",
   "execution_count": 6,
   "metadata": {},
   "outputs": [
    {
     "data": {
      "text/plain": [
       "'2017 Yearly Box Office Results - Box Office Mojo'"
      ]
     },
     "execution_count": 6,
     "metadata": {},
     "output_type": "execute_result"
    }
   ],
   "source": [
    "title[0].getText()"
   ]
  },
  {
   "cell_type": "code",
   "execution_count": 7,
   "metadata": {},
   "outputs": [
    {
     "name": "stdout",
     "output_type": "stream",
     "text": [
      "<b><a href=\"/yearly/chart/?yr=2016&amp;view=releasedate&amp;view2=domestic&amp;sort=gross&amp;order=DESC&amp;&amp;p=.htm\">&lt; Previous Year</a></b>\n",
      "<b>$620,181,382</b>\n",
      "<b>$504,014,165</b>\n",
      "<b>$412,563,408</b>\n",
      "<b>$404,515,480</b>\n",
      "<b>$389,813,101</b>\n",
      "<b>$334,201,140</b>\n",
      "<b>$327,481,748</b>\n",
      "<b>$315,058,289</b>\n",
      "<b>$264,624,300</b>\n",
      "<b>$229,024,295</b>\n",
      "<b>$226,277,068</b>\n",
      "<b>$226,008,385</b>\n",
      "<b>$209,726,015</b>\n",
      "<b>$188,045,546</b>\n",
      "<b>$176,040,665</b>\n",
      "<b>$175,750,384</b>\n",
      "<b>$175,003,033</b>\n",
      "<b>$174,340,174</b>\n",
      "<b>$172,558,876</b>\n",
      "<b>$168,052,812</b>\n",
      "<b>$152,901,115</b>\n",
      "<b>$146,880,162</b>\n",
      "<b>$138,291,365</b>\n",
      "<b>$132,422,809</b>\n",
      "<b>$130,168,683</b>\n",
      "<b>$115,171,585</b>\n",
      "<b>$114,581,250</b>\n",
      "<b>$107,825,862</b>\n",
      "<b>$104,897,530</b>\n",
      "<b>$104,029,443</b>\n",
      "<b>$102,826,543</b>\n",
      "<b>$102,092,201</b>\n",
      "<b>$100,234,838</b>\n",
      "<b>$92,054,159</b>\n",
      "<b>$92,029,184</b>\n",
      "<b>$86,089,513</b>\n",
      "<b>$85,364,450</b>\n",
      "<b>$84,410,380</b>\n",
      "<b>$81,903,458</b>\n",
      "<b>$80,227,895</b>\n",
      "<b>$75,468,583</b>\n",
      "<b>$74,262,031</b>\n",
      "<b>$73,921,000</b>\n",
      "<b>$72,110,659</b>\n",
      "<b>$64,508,620</b>\n",
      "<b>$63,859,435</b>\n",
      "<b>$59,281,555</b>\n",
      "<b>$58,060,186</b>\n",
      "<b>$57,386,418</b>\n",
      "<b>$56,468,410</b>\n",
      "<b>$55,683,845</b>\n",
      "<b>$54,513,740</b>\n",
      "<b>$51,687,870</b>\n",
      "<b>$51,342,000</b>\n",
      "<b>$50,701,325</b>\n",
      "<b>$48,958,273</b>\n",
      "<b>$47,319,572</b>\n",
      "<b>$45,852,178</b>\n",
      "<b>$45,540,830</b>\n",
      "<b>$45,020,282</b>\n",
      "<b>$45,018,541</b>\n",
      "<b>$44,922,302</b>\n",
      "<b>$44,898,413</b>\n",
      "<b>$44,307,192</b>\n",
      "<b>$42,873,127</b>\n",
      "<b>$41,189,488</b>\n",
      "<b>$40,852,824</b>\n",
      "<b>$40,563,557</b>\n",
      "<b>$39,175,066</b>\n",
      "<b>$38,052,832</b>\n",
      "<b>$36,249,674</b>\n",
      "<b>$34,393,507</b>\n",
      "<b>$34,121,140</b>\n",
      "<b>$33,800,859</b>\n",
      "<b>$33,700,160</b>\n",
      "<b>$33,370,166</b>\n",
      "<b>$32,187,017</b>\n",
      "<b>$32,149,404</b>\n",
      "<b>$30,718,107</b>\n",
      "<b>$30,353,973</b>\n",
      "<b>$30,348,555</b>\n",
      "<b>$30,234,022</b>\n",
      "<b>$30,014,539</b>\n",
      "<b>$29,819,114</b>\n",
      "<b>$28,780,744</b>\n",
      "<b>$28,370,522</b>\n",
      "<b>$27,793,018</b>\n",
      "<b>$27,780,977</b>\n",
      "<b>$27,020,284</b>\n",
      "<b>$26,830,068</b>\n",
      "<b>$25,584,504</b>\n",
      "<b>$25,113,707</b>\n",
      "<b>$24,801,212</b>\n",
      "<b>$24,449,754</b>\n",
      "<b>$22,395,806</b>\n",
      "<b>$22,245,070</b>\n",
      "<b>$22,105,643</b>\n",
      "<b>$21,885,107</b>\n",
      "<b>$21,858,070</b>\n",
      "<b>$21,120,616</b>\n",
      "<b>Summary of 740 Movies on Chart:</b>\n",
      "<b>Totals:</b>\n",
      "<b>Averages:</b>\n",
      "<b><a href=\"/yearly/chart/?yr=2016&amp;view=releasedate&amp;view2=domestic&amp;sort=gross&amp;order=DESC&amp;&amp;p=.htm\">&lt; Previous Year</a></b>\n"
     ]
    }
   ],
   "source": [
    "l = list()\n",
    "for i in soup.select('tr > td > font > b'):\n",
    "    print(i)"
   ]
  },
  {
   "cell_type": "code",
   "execution_count": 8,
   "metadata": {},
   "outputs": [
    {
     "data": {
      "text/plain": [
       "[]"
      ]
     },
     "execution_count": 8,
     "metadata": {},
     "output_type": "execute_result"
    }
   ],
   "source": [
    "l"
   ]
  },
  {
   "cell_type": "code",
   "execution_count": null,
   "metadata": {},
   "outputs": [],
   "source": [
    "link = i.get(\"href\")[7:].split(\"&\")\n",
    "    #print(type(link))\n",
    "    str1 = \"\".join(link)\n",
    "    #print(str1)\n",
    "    final = \"https://www.boxofficemojo.com/movies\" + str1\n",
    "    if \"/?id\" in final: \n",
    "        #print (final)\n",
    "        l.append(final)"
   ]
  }
 ],
 "metadata": {
  "kernelspec": {
   "display_name": "Python 3",
   "language": "python",
   "name": "python3"
  },
  "language_info": {
   "codemirror_mode": {
    "name": "ipython",
    "version": 3
   },
   "file_extension": ".py",
   "mimetype": "text/x-python",
   "name": "python",
   "nbconvert_exporter": "python",
   "pygments_lexer": "ipython3",
   "version": "3.7.0"
  }
 },
 "nbformat": 4,
 "nbformat_minor": 2
}
