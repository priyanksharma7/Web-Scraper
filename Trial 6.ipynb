{
 "cells": [
  {
   "cell_type": "code",
   "execution_count": 1,
   "metadata": {},
   "outputs": [],
   "source": [
    "import requests\n",
    "import bs4\n",
    "from datetime import datetime\n"
   ]
  },
  {
   "cell_type": "code",
   "execution_count": 2,
   "metadata": {},
   "outputs": [],
   "source": [
    "res = requests.get('https://www.boxofficemojo.com/yearly/chart/?yr=2017&p=.htm')"
   ]
  },
  {
   "cell_type": "code",
   "execution_count": 3,
   "metadata": {},
   "outputs": [],
   "source": [
    "soup = bs4.BeautifulSoup(res.text, 'html.parser')\n",
    "type(soup)\n",
    "def decrease_month(date):\n",
    "    year=date[:4]\n",
    "    day=date[-2:]\n",
    "    month=int(date[5:7])-1\n",
    "    if month < 10:\n",
    "        return year + \"-0\" + str(month) +\"-\" + day\n",
    "    else:\n",
    "        return year + \"-\" + str(month) +\"-\" + day\n",
    "    "
   ]
  },
  {
   "cell_type": "code",
   "execution_count": 4,
   "metadata": {},
   "outputs": [],
   "source": [
    "date_dic = {}\n",
    "links = []\n",
    "for i in soup.select('tr > td > b > font > a'):\n",
    "    link = i.get(\"href\")[7:].split(\"&\")\n",
    "    str1 = \"\".join(link)\n",
    "    final = \"https://www.boxofficemojo.com/movies\" + str1\n",
    "    if \"/?id\" in final:\n",
    "        links.append(final)"
   ]
  },
  {
   "cell_type": "markdown",
   "metadata": {},
   "source": []
  },
  {
   "cell_type": "code",
   "execution_count": null,
   "metadata": {},
   "outputs": [],
   "source": [
    "titles = []\n",
    "k=0\n",
    "while(k<10):\n",
    "    j = links[k]\n",
    "    res1 = requests.get(j)\n",
    "    soup1 = bs4.BeautifulSoup(res1.text, 'html.parser')\n",
    "    c = soup1.select('td[width=\"35%\"]')\n",
    "    d = soup1.select('td[colspan=\"2\"]')\n",
    "    budget = soup1.select('tr > td > b')\n",
    "    domestic = str(c[0].select('b'))[4:-5]\n",
    "    theater = str(d[1].select('font'))[26:-26]\n",
    "    release = soup1.nobr.a\n",
    "    title = soup1.select('title')[0].getText()[:-25]\n",
    "    titles.append(title)\n",
    "    date_dic[title]=release.contents[0]\n",
    "    k+=1"
   ]
  },
  {
   "cell_type": "code",
   "execution_count": null,
   "metadata": {},
   "outputs": [],
   "source": [
    "for i in titles:\n",
    "    release_date = date_dic[i]\n",
    "    i = i.replace(' ', '_')\n",
    "    i = i.replace(\"2017\", \"2017_film\")\n",
    "    end = datetime.strptime(release_date, '%B %d, %Y')\n",
    "    end_date = end.strftime('%Y-%m-%d')\n",
    "    start_date = decrease_month(end_date)\n",
    "    wiki_page = \"https://tools.wmflabs.org/pageviews/?project=en.wikipedia.org&platform=all-access&agent=user&start=\"+ start_date +\"&end=\"+ end_date + \"&pages=\" + i\n",
    "    print (wiki_page)\n",
    "    res = requests.get(wiki_page, timeout =None)\n",
    "    soup = bs4.BeautifulSoup(res.text, 'html.parser')\n",
    "    ab=soup.select('span[\"class=pull-right\"]')\n",
    "    print(ab)"
   ]
  },
  {
   "cell_type": "code",
   "execution_count": null,
   "metadata": {},
   "outputs": [],
   "source": []
  }
 ],
 "metadata": {
  "kernelspec": {
   "display_name": "Python 3",
   "language": "python",
   "name": "python3"
  },
  "language_info": {
   "codemirror_mode": {
    "name": "ipython",
    "version": 3
   },
   "file_extension": ".py",
   "mimetype": "text/x-python",
   "name": "python",
   "nbconvert_exporter": "python",
   "pygments_lexer": "ipython3",
   "version": "3.7.0"
  }
 },
 "nbformat": 4,
 "nbformat_minor": 2
}
