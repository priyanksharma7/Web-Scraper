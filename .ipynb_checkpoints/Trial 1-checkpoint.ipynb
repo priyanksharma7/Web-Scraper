{
 "cells": [
  {
   "cell_type": "code",
   "execution_count": 1,
   "metadata": {},
   "outputs": [],
   "source": [
    "import requests\n",
    "import bs4\n",
    "import numpy as np"
   ]
  },
  {
   "cell_type": "code",
   "execution_count": 2,
   "metadata": {},
   "outputs": [],
   "source": [
    "res = requests.get('https://www.boxofficemojo.com/yearly/chart/?yr=2017&p=.htm')"
   ]
  },
  {
   "cell_type": "code",
   "execution_count": 3,
   "metadata": {},
   "outputs": [
    {
     "data": {
      "text/plain": [
       "bs4.BeautifulSoup"
      ]
     },
     "execution_count": 3,
     "metadata": {},
     "output_type": "execute_result"
    }
   ],
   "source": [
    "soup = bs4.BeautifulSoup(res.text, 'html.parser')\n",
    "type(soup)"
   ]
  },
  {
   "cell_type": "code",
   "execution_count": 4,
   "metadata": {},
   "outputs": [
    {
     "data": {
      "text/plain": [
       "[<title>2017 Yearly Box Office Results - Box Office Mojo</title>]"
      ]
     },
     "execution_count": 4,
     "metadata": {},
     "output_type": "execute_result"
    }
   ],
   "source": [
    "title = soup.select('title')\n",
    "title"
   ]
  },
  {
   "cell_type": "code",
   "execution_count": 5,
   "metadata": {},
   "outputs": [
    {
     "data": {
      "text/plain": [
       "'2017 Yearly Box Office Results - Box Office Mojo'"
      ]
     },
     "execution_count": 5,
     "metadata": {},
     "output_type": "execute_result"
    }
   ],
   "source": [
    "title[0].getText()"
   ]
  },
  {
   "cell_type": "code",
   "execution_count": 16,
   "metadata": {},
   "outputs": [
    {
     "name": "stdout",
     "output_type": "stream",
     "text": [
      "https://www.boxofficemojo.com/movies/?id=starwars8.htm\n",
      "https://www.boxofficemojo.com/movies/?id=beautyandthebeast2017.htm\n",
      "https://www.boxofficemojo.com/movies/?id=wonderwoman.htm\n",
      "https://www.boxofficemojo.com/movies/?id=jumanji2016.htm\n",
      "https://www.boxofficemojo.com/movies/?id=marvel17a.htm\n",
      "https://www.boxofficemojo.com/movies/?id=spiderman2017.htm\n",
      "https://www.boxofficemojo.com/movies/?id=it.htm\n",
      "https://www.boxofficemojo.com/movies/?id=marvel2017.htm\n",
      "https://www.boxofficemojo.com/movies/?id=despicableme3.htm\n",
      "https://www.boxofficemojo.com/movies/?id=dcfilm1117.htm\n",
      "https://www.boxofficemojo.com/movies/?id=wolverine2017.htm\n",
      "https://www.boxofficemojo.com/movies/?id=furious8.htm\n",
      "https://www.boxofficemojo.com/movies/?id=pixar1117.htm\n",
      "https://www.boxofficemojo.com/movies/?id=chrisnolan2017.htm\n",
      "https://www.boxofficemojo.com/movies/?id=blumhouse2.htm\n",
      "https://www.boxofficemojo.com/movies/?id=lego2.htm\n",
      "https://www.boxofficemojo.com/movies/?id=bossbaby.htm\n",
      "https://www.boxofficemojo.com/movies/?id=greatestshowman.htm\n",
      "https://www.boxofficemojo.com/movies/?id=potc5.htm\n",
      "https://www.boxofficemojo.com/movies/?id=legendary2016.htm\n",
      "https://www.boxofficemojo.com/movies/?id=cars3.htm\n",
      "https://www.boxofficemojo.com/movies/?id=planetoftheapes16.htm\n",
      "https://www.boxofficemojo.com/movies/?id=split2017.htm\n",
      "https://www.boxofficemojo.com/movies/?id=wonder.htm\n",
      "https://www.boxofficemojo.com/movies/?id=transformers5.htm\n",
      "https://www.boxofficemojo.com/movies/?id=girltrip.htm\n",
      "https://www.boxofficemojo.com/movies/?id=fiftyshadesdarker.htm\n",
      "https://www.boxofficemojo.com/movies/?id=babydriver.htm\n",
      "https://www.boxofficemojo.com/movies/?id=pitchperfect3.htm\n",
      "https://www.boxofficemojo.com/movies/?id=daddyshome2.htm\n",
      "https://www.boxofficemojo.com/movies/?id=murderorientexpress17.htm\n",
      "https://www.boxofficemojo.com/movies/?id=annabelle2.htm\n",
      "https://www.boxofficemojo.com/movies/?id=kingsman2.htm\n",
      "https://www.boxofficemojo.com/movies/?id=bladerunnersequel.htm\n",
      "https://www.boxofficemojo.com/movies/?id=johnwick2.htm\n",
      "https://www.boxofficemojo.com/movies/?id=theemojimovie.htm\n",
      "https://www.boxofficemojo.com/movies/?id=powerrangers16.htm\n",
      "https://www.boxofficemojo.com/movies/?id=ferdinand.htm\n",
      "https://www.boxofficemojo.com/movies/?id=untitledstevenspielberg.htm\n",
      "https://www.boxofficemojo.com/movies/?id=mummy2016.htm\n",
      "https://www.boxofficemojo.com/movies/?id=hitmansbodyguard.htm\n",
      "https://www.boxofficemojo.com/movies/?id=alienparadiselost.htm\n",
      "https://www.boxofficemojo.com/movies/?id=captainunderpants.htm\n",
      "https://www.boxofficemojo.com/movies/?id=badmomschristmas.htm\n",
      "https://www.boxofficemojo.com/movies/?id=adogspurpose.htm\n",
      "https://www.boxofficemojo.com/movies/?id=theshapeofwater.htm\n",
      "https://www.boxofficemojo.com/movies/?id=ninjago.htm\n",
      "https://www.boxofficemojo.com/movies/?id=baywatch.htm\n",
      "https://www.boxofficemojo.com/movies/?id=theshack.htm\n",
      "https://www.boxofficemojo.com/movies/?id=darkesthour2017.htm\n",
      "https://www.boxofficemojo.com/movies/?id=blumhousehorror2018.htm\n",
      "https://www.boxofficemojo.com/movies/?id=threebillboards.htm\n",
      "https://www.boxofficemojo.com/movies/?id=thecoldestcity.htm\n",
      "https://www.boxofficemojo.com/movies/?id=mena.htm\n",
      "https://www.boxofficemojo.com/movies/?id=darktower.htm\n",
      "https://www.boxofficemojo.com/movies/?id=ladybird.htm\n",
      "https://www.boxofficemojo.com/movies/?id=amadeahalloween2.htm\n",
      "https://www.boxofficemojo.com/movies/?id=motherdaughter.htm\n",
      "https://www.boxofficemojo.com/movies/?id=greatwall.htm\n",
      "https://www.boxofficemojo.com/movies/?id=smurfs3.htm\n",
      "https://www.boxofficemojo.com/movies/?id=goinginsty2017.htm\n",
      "https://www.boxofficemojo.com/movies/?id=tupac.htm\n",
      "https://www.boxofficemojo.com/movies/?id=xxx3.htm\n",
      "https://www.boxofficemojo.com/movies/?id=47metersdown.htm\n",
      "https://www.boxofficemojo.com/movies/?id=thebigsick.htm\n",
      "https://www.boxofficemojo.com/movies/?id=valerian.htm\n",
      "https://www.boxofficemojo.com/movies/?id=thelamb.htm\n",
      "https://www.boxofficemojo.com/movies/?id=ghostintheshell2017.htm\n",
      "https://www.boxofficemojo.com/movies/?id=kingarthur2016.htm\n",
      "https://www.boxofficemojo.com/movies/?id=saw2017.htm\n",
      "https://www.boxofficemojo.com/movies/?id=americanassassin.htm\n",
      "https://www.boxofficemojo.com/movies/?id=theforeigner.htm\n",
      "https://www.boxofficemojo.com/movies/?id=everythingeverything.htm\n",
      "https://www.boxofficemojo.com/movies/?id=windriver.htm\n",
      "https://www.boxofficemojo.com/movies/?id=geostorm.htm\n",
      "https://www.boxofficemojo.com/movies/?id=monstertrucks.htm\n",
      "https://www.boxofficemojo.com/movies/?id=fistfight.htm\n",
      "https://www.boxofficemojo.com/movies/?id=howtobealatinlover.htm\n",
      "https://www.boxofficemojo.com/movies/?id=kidnap2015.htm\n",
      "https://www.boxofficemojo.com/movies/?id=underworld5.htm\n",
      "https://www.boxofficemojo.com/movies/?id=mountainbetweenus.htm\n",
      "https://www.boxofficemojo.com/movies/?id=life2017.htm\n",
      "https://www.boxofficemojo.com/movies/?id=itonya.htm\n",
      "https://www.boxofficemojo.com/movies/?id=hostiles.htm\n",
      "https://www.boxofficemojo.com/movies/?id=mollysgame.htm\n",
      "https://www.boxofficemojo.com/movies/?id=nutjob2.htm\n",
      "https://www.boxofficemojo.com/movies/?id=rings.htm\n",
      "https://www.boxofficemojo.com/movies/?id=loganlucky.htm\n",
      "https://www.boxofficemojo.com/movies/?id=homeagain.htm\n",
      "https://www.boxofficemojo.com/movies/?id=residentevil6.htm\n",
      "https://www.boxofficemojo.com/movies/?id=thehouse.htm\n",
      "https://www.boxofficemojo.com/movies/?id=allthemoneyintheworld.htm\n",
      "https://www.boxofficemojo.com/movies/?id=gifted.htm\n",
      "https://www.boxofficemojo.com/movies/?id=downsizing.htm\n",
      "https://www.boxofficemojo.com/movies/?id=thebyebyeman.htm\n",
      "https://www.boxofficemojo.com/movies/?id=victoriaandabdul.htm\n",
      "https://www.boxofficemojo.com/movies/?id=rockthatbody.htm\n",
      "https://www.boxofficemojo.com/movies/?id=mylittlepony2017.htm\n",
      "https://www.boxofficemojo.com/movies/?id=leap.htm\n",
      "https://www.boxofficemojo.com/movies/?id=thedisasterartist.htm\n"
     ]
    }
   ],
   "source": [
    "l = list()\n",
    "for i in soup.select('tr > td > b > font > a'):\n",
    "    #print(i)\n",
    "    link = i.get(\"href\")[7:].split(\"&\")\n",
    "    #print(type(link))\n",
    "    str1 = \"\".join(link)\n",
    "    #print(str1)\n",
    "    final = \"https://www.boxofficemojo.com/movies\" + str1\n",
    "    if \"/?id\" in final: \n",
    "        print (final)\n",
    "        l.append(final)"
   ]
  },
  {
   "cell_type": "code",
   "execution_count": 17,
   "metadata": {},
   "outputs": [
    {
     "data": {
      "text/plain": [
       "['https://www.boxofficemojo.com/movies/?id=starwars8.htm',\n",
       " 'https://www.boxofficemojo.com/movies/?id=beautyandthebeast2017.htm',\n",
       " 'https://www.boxofficemojo.com/movies/?id=wonderwoman.htm',\n",
       " 'https://www.boxofficemojo.com/movies/?id=jumanji2016.htm',\n",
       " 'https://www.boxofficemojo.com/movies/?id=marvel17a.htm',\n",
       " 'https://www.boxofficemojo.com/movies/?id=spiderman2017.htm',\n",
       " 'https://www.boxofficemojo.com/movies/?id=it.htm',\n",
       " 'https://www.boxofficemojo.com/movies/?id=marvel2017.htm',\n",
       " 'https://www.boxofficemojo.com/movies/?id=despicableme3.htm',\n",
       " 'https://www.boxofficemojo.com/movies/?id=dcfilm1117.htm',\n",
       " 'https://www.boxofficemojo.com/movies/?id=wolverine2017.htm',\n",
       " 'https://www.boxofficemojo.com/movies/?id=furious8.htm',\n",
       " 'https://www.boxofficemojo.com/movies/?id=pixar1117.htm',\n",
       " 'https://www.boxofficemojo.com/movies/?id=chrisnolan2017.htm',\n",
       " 'https://www.boxofficemojo.com/movies/?id=blumhouse2.htm',\n",
       " 'https://www.boxofficemojo.com/movies/?id=lego2.htm',\n",
       " 'https://www.boxofficemojo.com/movies/?id=bossbaby.htm',\n",
       " 'https://www.boxofficemojo.com/movies/?id=greatestshowman.htm',\n",
       " 'https://www.boxofficemojo.com/movies/?id=potc5.htm',\n",
       " 'https://www.boxofficemojo.com/movies/?id=legendary2016.htm',\n",
       " 'https://www.boxofficemojo.com/movies/?id=cars3.htm',\n",
       " 'https://www.boxofficemojo.com/movies/?id=planetoftheapes16.htm',\n",
       " 'https://www.boxofficemojo.com/movies/?id=split2017.htm',\n",
       " 'https://www.boxofficemojo.com/movies/?id=wonder.htm',\n",
       " 'https://www.boxofficemojo.com/movies/?id=transformers5.htm',\n",
       " 'https://www.boxofficemojo.com/movies/?id=girltrip.htm',\n",
       " 'https://www.boxofficemojo.com/movies/?id=fiftyshadesdarker.htm',\n",
       " 'https://www.boxofficemojo.com/movies/?id=babydriver.htm',\n",
       " 'https://www.boxofficemojo.com/movies/?id=pitchperfect3.htm',\n",
       " 'https://www.boxofficemojo.com/movies/?id=daddyshome2.htm',\n",
       " 'https://www.boxofficemojo.com/movies/?id=murderorientexpress17.htm',\n",
       " 'https://www.boxofficemojo.com/movies/?id=annabelle2.htm',\n",
       " 'https://www.boxofficemojo.com/movies/?id=kingsman2.htm',\n",
       " 'https://www.boxofficemojo.com/movies/?id=bladerunnersequel.htm',\n",
       " 'https://www.boxofficemojo.com/movies/?id=johnwick2.htm',\n",
       " 'https://www.boxofficemojo.com/movies/?id=theemojimovie.htm',\n",
       " 'https://www.boxofficemojo.com/movies/?id=powerrangers16.htm',\n",
       " 'https://www.boxofficemojo.com/movies/?id=ferdinand.htm',\n",
       " 'https://www.boxofficemojo.com/movies/?id=untitledstevenspielberg.htm',\n",
       " 'https://www.boxofficemojo.com/movies/?id=mummy2016.htm',\n",
       " 'https://www.boxofficemojo.com/movies/?id=hitmansbodyguard.htm',\n",
       " 'https://www.boxofficemojo.com/movies/?id=alienparadiselost.htm',\n",
       " 'https://www.boxofficemojo.com/movies/?id=captainunderpants.htm',\n",
       " 'https://www.boxofficemojo.com/movies/?id=badmomschristmas.htm',\n",
       " 'https://www.boxofficemojo.com/movies/?id=adogspurpose.htm',\n",
       " 'https://www.boxofficemojo.com/movies/?id=theshapeofwater.htm',\n",
       " 'https://www.boxofficemojo.com/movies/?id=ninjago.htm',\n",
       " 'https://www.boxofficemojo.com/movies/?id=baywatch.htm',\n",
       " 'https://www.boxofficemojo.com/movies/?id=theshack.htm',\n",
       " 'https://www.boxofficemojo.com/movies/?id=darkesthour2017.htm',\n",
       " 'https://www.boxofficemojo.com/movies/?id=blumhousehorror2018.htm',\n",
       " 'https://www.boxofficemojo.com/movies/?id=threebillboards.htm',\n",
       " 'https://www.boxofficemojo.com/movies/?id=thecoldestcity.htm',\n",
       " 'https://www.boxofficemojo.com/movies/?id=mena.htm',\n",
       " 'https://www.boxofficemojo.com/movies/?id=darktower.htm',\n",
       " 'https://www.boxofficemojo.com/movies/?id=ladybird.htm',\n",
       " 'https://www.boxofficemojo.com/movies/?id=amadeahalloween2.htm',\n",
       " 'https://www.boxofficemojo.com/movies/?id=motherdaughter.htm',\n",
       " 'https://www.boxofficemojo.com/movies/?id=greatwall.htm',\n",
       " 'https://www.boxofficemojo.com/movies/?id=smurfs3.htm',\n",
       " 'https://www.boxofficemojo.com/movies/?id=goinginsty2017.htm',\n",
       " 'https://www.boxofficemojo.com/movies/?id=tupac.htm',\n",
       " 'https://www.boxofficemojo.com/movies/?id=xxx3.htm',\n",
       " 'https://www.boxofficemojo.com/movies/?id=47metersdown.htm',\n",
       " 'https://www.boxofficemojo.com/movies/?id=thebigsick.htm',\n",
       " 'https://www.boxofficemojo.com/movies/?id=valerian.htm',\n",
       " 'https://www.boxofficemojo.com/movies/?id=thelamb.htm',\n",
       " 'https://www.boxofficemojo.com/movies/?id=ghostintheshell2017.htm',\n",
       " 'https://www.boxofficemojo.com/movies/?id=kingarthur2016.htm',\n",
       " 'https://www.boxofficemojo.com/movies/?id=saw2017.htm',\n",
       " 'https://www.boxofficemojo.com/movies/?id=americanassassin.htm',\n",
       " 'https://www.boxofficemojo.com/movies/?id=theforeigner.htm',\n",
       " 'https://www.boxofficemojo.com/movies/?id=everythingeverything.htm',\n",
       " 'https://www.boxofficemojo.com/movies/?id=windriver.htm',\n",
       " 'https://www.boxofficemojo.com/movies/?id=geostorm.htm',\n",
       " 'https://www.boxofficemojo.com/movies/?id=monstertrucks.htm',\n",
       " 'https://www.boxofficemojo.com/movies/?id=fistfight.htm',\n",
       " 'https://www.boxofficemojo.com/movies/?id=howtobealatinlover.htm',\n",
       " 'https://www.boxofficemojo.com/movies/?id=kidnap2015.htm',\n",
       " 'https://www.boxofficemojo.com/movies/?id=underworld5.htm',\n",
       " 'https://www.boxofficemojo.com/movies/?id=mountainbetweenus.htm',\n",
       " 'https://www.boxofficemojo.com/movies/?id=life2017.htm',\n",
       " 'https://www.boxofficemojo.com/movies/?id=itonya.htm',\n",
       " 'https://www.boxofficemojo.com/movies/?id=hostiles.htm',\n",
       " 'https://www.boxofficemojo.com/movies/?id=mollysgame.htm',\n",
       " 'https://www.boxofficemojo.com/movies/?id=nutjob2.htm',\n",
       " 'https://www.boxofficemojo.com/movies/?id=rings.htm',\n",
       " 'https://www.boxofficemojo.com/movies/?id=loganlucky.htm',\n",
       " 'https://www.boxofficemojo.com/movies/?id=homeagain.htm',\n",
       " 'https://www.boxofficemojo.com/movies/?id=residentevil6.htm',\n",
       " 'https://www.boxofficemojo.com/movies/?id=thehouse.htm',\n",
       " 'https://www.boxofficemojo.com/movies/?id=allthemoneyintheworld.htm',\n",
       " 'https://www.boxofficemojo.com/movies/?id=gifted.htm',\n",
       " 'https://www.boxofficemojo.com/movies/?id=downsizing.htm',\n",
       " 'https://www.boxofficemojo.com/movies/?id=thebyebyeman.htm',\n",
       " 'https://www.boxofficemojo.com/movies/?id=victoriaandabdul.htm',\n",
       " 'https://www.boxofficemojo.com/movies/?id=rockthatbody.htm',\n",
       " 'https://www.boxofficemojo.com/movies/?id=mylittlepony2017.htm',\n",
       " 'https://www.boxofficemojo.com/movies/?id=leap.htm',\n",
       " 'https://www.boxofficemojo.com/movies/?id=thedisasterartist.htm']"
      ]
     },
     "execution_count": 17,
     "metadata": {},
     "output_type": "execute_result"
    }
   ],
   "source": [
    "l"
   ]
  },
  {
   "cell_type": "code",
   "execution_count": null,
   "metadata": {},
   "outputs": [],
   "source": []
  }
 ],
 "metadata": {
  "kernelspec": {
   "display_name": "Python 3",
   "language": "python",
   "name": "python3"
  },
  "language_info": {
   "codemirror_mode": {
    "name": "ipython",
    "version": 3
   },
   "file_extension": ".py",
   "mimetype": "text/x-python",
   "name": "python",
   "nbconvert_exporter": "python",
   "pygments_lexer": "ipython3",
   "version": "3.7.0"
  }
 },
 "nbformat": 4,
 "nbformat_minor": 2
}
