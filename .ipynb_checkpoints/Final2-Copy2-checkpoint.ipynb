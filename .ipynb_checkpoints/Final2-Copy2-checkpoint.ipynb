{
 "cells": [
  {
   "cell_type": "code",
   "execution_count": 1,
   "metadata": {},
   "outputs": [],
   "source": [
    "import requests\n",
    "import bs4\n",
    "from datetime import datetime\n",
    "\n",
    "initialpage = 'https://www.boxofficemojo.com/yearly/chart/?yr=2017&p=.htm'\n",
    "res = requests.get(initialpage, timeout=None)\n",
    "soup = bs4.BeautifulSoup(res.text, 'html.parser')\n"
   ]
  },
  {
   "cell_type": "code",
   "execution_count": null,
   "metadata": {},
   "outputs": [
    {
     "name": "stdout",
     "output_type": "stream",
     "text": [
      "<td> 4,232 theaters</td>\n",
      "lol\n",
      "<td> 4,232 theaters</td>\n",
      "lol\n",
      "<td> 4,232 theaters</td>\n",
      "lol\n",
      "<td> 4,232 theaters</td>\n",
      "lol\n",
      "<td> 4,232 theaters</td>\n",
      "lol\n",
      "<td> 4,232 theaters</td>\n",
      "lol\n",
      "<td> 4,232 theaters</td>\n",
      "lol\n",
      "<td> 4,232 theaters</td>\n",
      "lol\n",
      "<td> 4,232 theaters</td>\n",
      "lol\n",
      "<td> 4,232 theaters</td>\n",
      "lol\n",
      "<td> 4,232 theaters</td>\n",
      "lol\n"
     ]
    }
   ],
   "source": [
    "pages = []\n",
    "pagelinks=soup.select('a[href^=\"/yearly/chart/?page\"]')\n",
    "for i in range(int(len(pagelinks)/2)):\n",
    "    pages.append(str(pagelinks[i])[9:-14])\n",
    "    pages[i]=pages[i].replace(\"amp;\",\"\")\n",
    "    pages[i]= \"https://www.boxofficemojo.com\" + pages[i]\n",
    "    \n",
    "pages.insert(0, initialpage)\n",
    "date_dic = {}\n",
    "movie_links = []\n",
    "titles = []\n",
    "\n",
    "for i in range(int(len(pagelinks)/2)): \n",
    "    res1 = requests.get(pages[i])\n",
    "    souppage=bs4.BeautifulSoup(res1.text, 'html.parser')\n",
    "    for i in souppage.select('tr > td > b > font > a'):\n",
    "        link = i.get(\"href\")[7:].split(\"&\")\n",
    "        str1 = \"\".join(link)\n",
    "        final = \"https://www.boxofficemojo.com/movies\" + str1\n",
    "        if \"/?id\" in final: \n",
    "            movie_links.append(final)\n",
    "k=0\n",
    "while(k < 10):\n",
    "    j = movie_links[k]\n",
    "    res1 = requests.get(j)\n",
    "    soup1 = bs4.BeautifulSoup(res1.text, 'html.parser')\n",
    "    c = soup1.select('td[width=\"35%\"]')\n",
    "    d = soup1.select('div[class=\"mp_box_content\"]')\n",
    "    genre = soup1.select('td[valign=\"top\"]')[5].select('b')\n",
    "    image = soup1.select('img')[6].get('src')\n",
    "    budget = soup1.select('tr > td > b')\n",
    "    domestic = str(c[0].select('b'))[4:-5]\n",
    "    theater = d[1].select('td')\n",
    "    release = soup1.nobr.a\n",
    "    title = soup1.select('title')[0].getText()[:-25]\n",
    "    print (theater[-5])\n",
    "    print (\"lol\")"
   ]
  },
  {
   "cell_type": "code",
   "execution_count": null,
   "metadata": {},
   "outputs": [],
   "source": [
    "\n",
    "    print (\"-----------------------------------------\")\n",
    "    print (\"Title: \" +title)\n",
    "    print (\"Domestic Total Gross: \" +domestic)\n",
    "    print (\"Genre: \"+genre[0].getText())\n",
    "    print (\"Release Date: \" +release.contents[0])\n",
    "    print (\"Production Budget: \" +budget[5].getText())\n",
    "    titles.append(title)\n",
    "    date_dic[title]=release.contents[0]"
   ]
  }
 ],
 "metadata": {
  "kernelspec": {
   "display_name": "Python 3",
   "language": "python",
   "name": "python3"
  },
  "language_info": {
   "codemirror_mode": {
    "name": "ipython",
    "version": 3
   },
   "file_extension": ".py",
   "mimetype": "text/x-python",
   "name": "python",
   "nbconvert_exporter": "python",
   "pygments_lexer": "ipython3",
   "version": "3.7.0"
  }
 },
 "nbformat": 4,
 "nbformat_minor": 2
}
