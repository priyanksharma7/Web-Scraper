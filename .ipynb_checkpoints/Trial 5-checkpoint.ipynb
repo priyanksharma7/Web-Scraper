{
 "cells": [
  {
   "cell_type": "code",
   "execution_count": 1,
   "metadata": {},
   "outputs": [],
   "source": [
    "import requests\n",
    "import bs4\n",
    "from datetime import datetime"
   ]
  },
  {
   "cell_type": "code",
   "execution_count": 2,
   "metadata": {},
   "outputs": [
    {
     "name": "stdout",
     "output_type": "stream",
     "text": [
      "<class 'bs4.BeautifulSoup'>\n"
     ]
    }
   ],
   "source": [
    "page = \"https://en.wikipedia.org/w/index.php?title=The_Student_(2016_film)&action=history\"\n",
    "res = requests.get(page, timeout =None)\n",
    "soup = bs4.BeautifulSoup(res.text, 'html.parser')\n",
    "print (type(soup))"
   ]
  },
  {
   "cell_type": "code",
   "execution_count": 3,
   "metadata": {},
   "outputs": [],
   "source": [
    "dic = {}\n",
    "names = []\n",
    "for i in soup.select('a > bdi'):\n",
    "    guy = str(i.getText())\n",
    "    names.append(guy)\n",
    "    if guy not in dic:\n",
    "        dic[guy] = 1\n",
    "    else:\n",
    "        dic[guy] += 1"
   ]
  },
  {
   "cell_type": "code",
   "execution_count": 4,
   "metadata": {},
   "outputs": [
    {
     "name": "stdout",
     "output_type": "stream",
     "text": [
      "Number of distinct users:  14\n",
      "Number of total edits:  24\n",
      "{'Lugnuts': 11, 'Oakshade': 1, 'AndreyKva': 1, 'EROY': 1, 'KolbertBot': 1, 'Чръный человек': 1, 'EclecticEnnui': 1, 'Er nesto': 1, '149.126.20.181': 1, '80.95.38.145': 1, '31.213.10.66': 1, '93.124.41.17': 1, 'Gomuse17': 1, 'Film Fan': 1}\n",
      "['Lugnuts', 'Oakshade', 'AndreyKva', 'Lugnuts', 'Lugnuts', 'EROY', 'Lugnuts', 'KolbertBot', 'Lugnuts', 'Чръный человек', 'EclecticEnnui', 'Er nesto', '149.126.20.181', 'Lugnuts', '80.95.38.145', '31.213.10.66', '93.124.41.17', 'Gomuse17', 'Lugnuts', 'Lugnuts', 'Lugnuts', 'Film Fan', 'Lugnuts', 'Lugnuts']\n"
     ]
    }
   ],
   "source": [
    "print (\"Number of distinct users: \", len(dic))\n",
    "print (\"Number of total edits: \", len(names))\n",
    "print (dic)\n",
    "print (names)"
   ]
  },
  {
   "cell_type": "code",
   "execution_count": 5,
   "metadata": {},
   "outputs": [],
   "source": [
    "def convert(a):\n",
    "    return {\n",
    "        \"January\": 1, \n",
    "        \"February\": 2,\n",
    "        \"March\": 3,\n",
    "        \"April\": 4,\n",
    "        \"May\": 5,\n",
    "        \"June\": 6,\n",
    "        \"July\": 7,\n",
    "        \"August\": 8,\n",
    "        \"September\": 9,\n",
    "        \"October\": 10,\n",
    "        \"November\": 11,\n",
    "        \"December\": 12,\n",
    "    }[a]"
   ]
  },
  {
   "cell_type": "code",
   "execution_count": 6,
   "metadata": {},
   "outputs": [],
   "source": [
    "timestamp = []\n",
    "for i in soup.select('a[class=\"mw-changeslist-date\"]'):\n",
    "        j = str(i)\n",
    "        p = j.find(',')\n",
    "        a = j[p-5:p]\n",
    "        b = j[p+2:p+4].strip()\n",
    "        c = j[p:p+15].rsplit(' ')[2]\n",
    "        d = j[p:].rsplit(' ')[3][:4]\n",
    "        time = c +' '+ b +' '+ d +' '+ a\n",
    "        date = datetime.strptime(time, '%B %d %Y %H:%M')\n",
    "        timestamp.append(date)"
   ]
  },
  {
   "cell_type": "code",
   "execution_count": 7,
   "metadata": {},
   "outputs": [
    {
     "name": "stdout",
     "output_type": "stream",
     "text": [
      "23\n"
     ]
    }
   ],
   "source": [
    "collab = 0\n",
    "time = datetime.strptime('00:10', '%H:%M')\n",
    "for i in range(len(names)-1):\n",
    "    if (timestamp[i].year == timestamp[i+1].year):\n",
    "        if (timestamp[i].month == timestamp[i+1].month):\n",
    "            if (timestamp[i].day == timestamp[i+1].day):\n",
    "                if (timestamp[i].hour == timestamp[i+1].hour):\n",
    "                    if (timestamp[i].minute - timestamp[i+1].minute < 10):\n",
    "                        if(names[i]==names[i+1]):\n",
    "                            collab += 1\n",
    "collaborative_rigor = len(names) - collab\n",
    "print(collaborative_rigor)"
   ]
  },
  {
   "cell_type": "code",
   "execution_count": null,
   "metadata": {},
   "outputs": [],
   "source": []
  }
 ],
 "metadata": {
  "kernelspec": {
   "display_name": "Python 3",
   "language": "python",
   "name": "python3"
  },
  "language_info": {
   "codemirror_mode": {
    "name": "ipython",
    "version": 3
   },
   "file_extension": ".py",
   "mimetype": "text/x-python",
   "name": "python",
   "nbconvert_exporter": "python",
   "pygments_lexer": "ipython3",
   "version": "3.7.0"
  }
 },
 "nbformat": 4,
 "nbformat_minor": 2
}
