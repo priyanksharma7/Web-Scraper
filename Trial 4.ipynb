{
 "cells": [
  {
   "cell_type": "code",
   "execution_count": 1,
   "metadata": {},
   "outputs": [],
   "source": [
    "import requests\n",
    "import bs4\n",
    "import numpy as np"
   ]
  },
  {
   "cell_type": "code",
   "execution_count": 2,
   "metadata": {},
   "outputs": [],
   "source": [
    "initialpage = \"https://www.boxofficemojo.com/yearly/chart/?yr=2017&p=.htm\"\n",
    "res = requests.get('https://www.boxofficemojo.com/yearly/chart/?yr=2017&p=.htm', timeout =None)"
   ]
  },
  {
   "cell_type": "code",
   "execution_count": 3,
   "metadata": {},
   "outputs": [],
   "source": [
    "soup = bs4.BeautifulSoup(res.text, 'html.parser')\n"
   ]
  },
  {
   "cell_type": "code",
   "execution_count": null,
   "metadata": {
    "scrolled": true
   },
   "outputs": [],
   "source": [
    "pages = []\n",
    "pagelinks=soup.select('a[href^=\"/yearly/chart/?page\"]')\n",
    "for i in range(int(len(pagelinks)/2)):\n",
    "    pages.append(str(pagelinks[i])[9:-14])\n",
    "    pages[i]=pages[i].replace(\"amp;\",\"\")\n",
    "    pages[i]= \"https://www.boxofficemojo.com\" + pages[i]\n",
    "    \n",
    "pages.insert(0, initialpage)\n",
    "date_dic = {}\n",
    "\n",
    "for i in range(int(len(pagelinks)/2)): \n",
    "    res1 = requests.get(pages[i])\n",
    "    souppage=bs4.BeautifulSoup(res1.text, 'html.parser')\n",
    "    l = []\n",
    "    for i in souppage.select('tr > td > b > font > a'):\n",
    "        #print(i)\n",
    "        link = i.get(\"href\")[7:].split(\"&\")\n",
    "        #print(type(link))\n",
    "        str1 = \"\".join(link)\n",
    "        #print(str1)\n",
    "        final = \"https://www.boxofficemojo.com/movies\" + str1\n",
    "        if \"/?id\" in final: \n",
    "            #print (final)\n",
    "            l.append(final)\n",
    "    k=0\n",
    "    while(k<len(l)):\n",
    "        j = l[k]\n",
    "        res1 = requests.get(j)\n",
    "        soup1 = bs4.BeautifulSoup(res1.text, 'html.parser')\n",
    "        domestic = soup1.select('td[width=\"35%\"]')\n",
    "        theater = soup1.select('td[colspan=\"2\"]')\n",
    "        budget = soup1.select('tr > td > b')\n",
    "        genre = soup1.find_all(\"Genre: \")\n",
    "        c = str(domestic[0].select('b'))[4:-5]\n",
    "        d = str(theater[1].select('font'))[26:-26]\n",
    "        release = soup1.nobr.a\n",
    "        title = soup1.select('title')[0].getText()\n",
    "        #print(title)\n",
    "        #print(c)\n",
    "        #print(d)\n",
    "        #print (budget[5].getText())\n",
    "        #print (release.contents[0])\n",
    "        print (genre)\n",
    "        date_dic[title]=release.contents[0]\n",
    "        k+=1"
   ]
  },
  {
   "cell_type": "code",
   "execution_count": null,
   "metadata": {},
   "outputs": [],
   "source": []
  }
 ],
 "metadata": {
  "kernelspec": {
   "display_name": "Python 3",
   "language": "python",
   "name": "python3"
  },
  "language_info": {
   "codemirror_mode": {
    "name": "ipython",
    "version": 3
   },
   "file_extension": ".py",
   "mimetype": "text/x-python",
   "name": "python",
   "nbconvert_exporter": "python",
   "pygments_lexer": "ipython3",
   "version": "3.7.0"
  }
 },
 "nbformat": 4,
 "nbformat_minor": 2
}
