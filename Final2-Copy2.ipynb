{
 "cells": [
  {
   "cell_type": "code",
   "execution_count": 1,
   "metadata": {},
   "outputs": [
    {
     "name": "stdout",
     "output_type": "stream",
     "text": [
      "<td> 353 theaters</td>\n"
     ]
    }
   ],
   "source": [
    "import requests\n",
    "import bs4\n",
    "from datetime import datetime\n",
    "\n",
    "initialpage = 'https://www.boxofficemojo.com/movies/?id=theleisureseeker.htm'\n",
    "res = requests.get(initialpage, timeout=None)\n",
    "soup = bs4.BeautifulSoup(res.text, 'html.parser')\n",
    "d = soup.select('div[class=\"mp_box_content\"]')\n",
    "theater = d[1].select('td')\n",
    "print (theater[-5])"
   ]
  }
 ],
 "metadata": {
  "kernelspec": {
   "display_name": "Python 3",
   "language": "python",
   "name": "python3"
  },
  "language_info": {
   "codemirror_mode": {
    "name": "ipython",
    "version": 3
   },
   "file_extension": ".py",
   "mimetype": "text/x-python",
   "name": "python",
   "nbconvert_exporter": "python",
   "pygments_lexer": "ipython3",
   "version": "3.7.0"
  }
 },
 "nbformat": 4,
 "nbformat_minor": 2
}
