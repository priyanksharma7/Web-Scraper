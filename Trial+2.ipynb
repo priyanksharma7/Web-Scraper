{
 "cells": [
  {
   "cell_type": "code",
   "execution_count": 1,
   "metadata": {
    "collapsed": true
   },
   "outputs": [],
   "source": [
    "import requests\n",
    "import bs4\n",
    "import numpy as np"
   ]
  },
  {
   "cell_type": "code",
   "execution_count": 2,
   "metadata": {
    "collapsed": true
   },
   "outputs": [],
   "source": [
    "res = requests.get('https://www.boxofficemojo.com/yearly/chart/?yr=2017&p=.htm')"
   ]
  },
  {
   "cell_type": "code",
   "execution_count": 3,
   "metadata": {},
   "outputs": [
    {
     "data": {
      "text/plain": [
       "bs4.BeautifulSoup"
      ]
     },
     "execution_count": 3,
     "metadata": {},
     "output_type": "execute_result"
    }
   ],
   "source": [
    "soup = bs4.BeautifulSoup(res.text, 'html.parser')\n",
    "type(soup)"
   ]
  },
  {
   "cell_type": "code",
   "execution_count": 4,
   "metadata": {},
   "outputs": [
    {
     "data": {
      "text/plain": [
       "[<title>2017 Yearly Box Office Results - Box Office Mojo</title>]"
      ]
     },
     "execution_count": 4,
     "metadata": {},
     "output_type": "execute_result"
    }
   ],
   "source": [
    "title = soup.select('title')\n",
    "title"
   ]
  },
  {
   "cell_type": "code",
   "execution_count": 5,
   "metadata": {},
   "outputs": [
    {
     "data": {
      "text/plain": [
       "'2017 Yearly Box Office Results - Box Office Mojo'"
      ]
     },
     "execution_count": 5,
     "metadata": {},
     "output_type": "execute_result"
    }
   ],
   "source": [
    "title[0].getText()"
   ]
  },
  {
   "cell_type": "code",
   "execution_count": 6,
   "metadata": {},
   "outputs": [
    {
     "name": "stdout",
     "output_type": "stream",
     "text": [
      "https://www.boxofficemojo.com/movies/?id=starwars8.htm\n",
      "https://www.boxofficemojo.com/movies/?id=beautyandthebeast2017.htm\n",
      "https://www.boxofficemojo.com/movies/?id=wonderwoman.htm\n",
      "https://www.boxofficemojo.com/movies/?id=jumanji2016.htm\n",
      "https://www.boxofficemojo.com/movies/?id=marvel17a.htm\n",
      "https://www.boxofficemojo.com/movies/?id=spiderman2017.htm\n",
      "https://www.boxofficemojo.com/movies/?id=it.htm\n",
      "https://www.boxofficemojo.com/movies/?id=marvel2017.htm\n",
      "https://www.boxofficemojo.com/movies/?id=despicableme3.htm\n",
      "https://www.boxofficemojo.com/movies/?id=dcfilm1117.htm\n",
      "https://www.boxofficemojo.com/movies/?id=wolverine2017.htm\n",
      "https://www.boxofficemojo.com/movies/?id=furious8.htm\n",
      "https://www.boxofficemojo.com/movies/?id=pixar1117.htm\n",
      "https://www.boxofficemojo.com/movies/?id=chrisnolan2017.htm\n",
      "https://www.boxofficemojo.com/movies/?id=blumhouse2.htm\n",
      "https://www.boxofficemojo.com/movies/?id=lego2.htm\n",
      "https://www.boxofficemojo.com/movies/?id=bossbaby.htm\n",
      "https://www.boxofficemojo.com/movies/?id=greatestshowman.htm\n",
      "https://www.boxofficemojo.com/movies/?id=potc5.htm\n",
      "https://www.boxofficemojo.com/movies/?id=legendary2016.htm\n",
      "https://www.boxofficemojo.com/movies/?id=cars3.htm\n",
      "https://www.boxofficemojo.com/movies/?id=planetoftheapes16.htm\n",
      "https://www.boxofficemojo.com/movies/?id=split2017.htm\n",
      "https://www.boxofficemojo.com/movies/?id=wonder.htm\n",
      "https://www.boxofficemojo.com/movies/?id=transformers5.htm\n",
      "https://www.boxofficemojo.com/movies/?id=girltrip.htm\n",
      "https://www.boxofficemojo.com/movies/?id=fiftyshadesdarker.htm\n",
      "https://www.boxofficemojo.com/movies/?id=babydriver.htm\n",
      "https://www.boxofficemojo.com/movies/?id=pitchperfect3.htm\n",
      "https://www.boxofficemojo.com/movies/?id=daddyshome2.htm\n",
      "https://www.boxofficemojo.com/movies/?id=murderorientexpress17.htm\n",
      "https://www.boxofficemojo.com/movies/?id=annabelle2.htm\n",
      "https://www.boxofficemojo.com/movies/?id=kingsman2.htm\n",
      "https://www.boxofficemojo.com/movies/?id=bladerunnersequel.htm\n",
      "https://www.boxofficemojo.com/movies/?id=johnwick2.htm\n",
      "https://www.boxofficemojo.com/movies/?id=theemojimovie.htm\n",
      "https://www.boxofficemojo.com/movies/?id=powerrangers16.htm\n",
      "https://www.boxofficemojo.com/movies/?id=ferdinand.htm\n",
      "https://www.boxofficemojo.com/movies/?id=untitledstevenspielberg.htm\n",
      "https://www.boxofficemojo.com/movies/?id=mummy2016.htm\n",
      "https://www.boxofficemojo.com/movies/?id=hitmansbodyguard.htm\n",
      "https://www.boxofficemojo.com/movies/?id=alienparadiselost.htm\n",
      "https://www.boxofficemojo.com/movies/?id=captainunderpants.htm\n",
      "https://www.boxofficemojo.com/movies/?id=badmomschristmas.htm\n",
      "https://www.boxofficemojo.com/movies/?id=adogspurpose.htm\n",
      "https://www.boxofficemojo.com/movies/?id=theshapeofwater.htm\n",
      "https://www.boxofficemojo.com/movies/?id=ninjago.htm\n",
      "https://www.boxofficemojo.com/movies/?id=baywatch.htm\n",
      "https://www.boxofficemojo.com/movies/?id=theshack.htm\n",
      "https://www.boxofficemojo.com/movies/?id=darkesthour2017.htm\n",
      "https://www.boxofficemojo.com/movies/?id=blumhousehorror2018.htm\n",
      "https://www.boxofficemojo.com/movies/?id=threebillboards.htm\n",
      "https://www.boxofficemojo.com/movies/?id=thecoldestcity.htm\n",
      "https://www.boxofficemojo.com/movies/?id=mena.htm\n",
      "https://www.boxofficemojo.com/movies/?id=darktower.htm\n",
      "https://www.boxofficemojo.com/movies/?id=ladybird.htm\n",
      "https://www.boxofficemojo.com/movies/?id=amadeahalloween2.htm\n",
      "https://www.boxofficemojo.com/movies/?id=motherdaughter.htm\n",
      "https://www.boxofficemojo.com/movies/?id=greatwall.htm\n",
      "https://www.boxofficemojo.com/movies/?id=smurfs3.htm\n",
      "https://www.boxofficemojo.com/movies/?id=goinginsty2017.htm\n",
      "https://www.boxofficemojo.com/movies/?id=tupac.htm\n",
      "https://www.boxofficemojo.com/movies/?id=xxx3.htm\n",
      "https://www.boxofficemojo.com/movies/?id=47metersdown.htm\n",
      "https://www.boxofficemojo.com/movies/?id=thebigsick.htm\n",
      "https://www.boxofficemojo.com/movies/?id=valerian.htm\n",
      "https://www.boxofficemojo.com/movies/?id=thelamb.htm\n",
      "https://www.boxofficemojo.com/movies/?id=ghostintheshell2017.htm\n",
      "https://www.boxofficemojo.com/movies/?id=kingarthur2016.htm\n",
      "https://www.boxofficemojo.com/movies/?id=saw2017.htm\n",
      "https://www.boxofficemojo.com/movies/?id=americanassassin.htm\n",
      "https://www.boxofficemojo.com/movies/?id=theforeigner.htm\n",
      "https://www.boxofficemojo.com/movies/?id=everythingeverything.htm\n",
      "https://www.boxofficemojo.com/movies/?id=windriver.htm\n",
      "https://www.boxofficemojo.com/movies/?id=geostorm.htm\n",
      "https://www.boxofficemojo.com/movies/?id=monstertrucks.htm\n",
      "https://www.boxofficemojo.com/movies/?id=fistfight.htm\n",
      "https://www.boxofficemojo.com/movies/?id=howtobealatinlover.htm\n",
      "https://www.boxofficemojo.com/movies/?id=kidnap2015.htm\n",
      "https://www.boxofficemojo.com/movies/?id=underworld5.htm\n",
      "https://www.boxofficemojo.com/movies/?id=mountainbetweenus.htm\n",
      "https://www.boxofficemojo.com/movies/?id=life2017.htm\n",
      "https://www.boxofficemojo.com/movies/?id=itonya.htm\n",
      "https://www.boxofficemojo.com/movies/?id=hostiles.htm\n",
      "https://www.boxofficemojo.com/movies/?id=mollysgame.htm\n",
      "https://www.boxofficemojo.com/movies/?id=nutjob2.htm\n",
      "https://www.boxofficemojo.com/movies/?id=rings.htm\n",
      "https://www.boxofficemojo.com/movies/?id=loganlucky.htm\n",
      "https://www.boxofficemojo.com/movies/?id=homeagain.htm\n",
      "https://www.boxofficemojo.com/movies/?id=residentevil6.htm\n",
      "https://www.boxofficemojo.com/movies/?id=thehouse.htm\n",
      "https://www.boxofficemojo.com/movies/?id=allthemoneyintheworld.htm\n",
      "https://www.boxofficemojo.com/movies/?id=gifted.htm\n",
      "https://www.boxofficemojo.com/movies/?id=downsizing.htm\n",
      "https://www.boxofficemojo.com/movies/?id=thebyebyeman.htm\n",
      "https://www.boxofficemojo.com/movies/?id=victoriaandabdul.htm\n",
      "https://www.boxofficemojo.com/movies/?id=rockthatbody.htm\n",
      "https://www.boxofficemojo.com/movies/?id=mylittlepony2017.htm\n",
      "https://www.boxofficemojo.com/movies/?id=leap.htm\n",
      "https://www.boxofficemojo.com/movies/?id=thedisasterartist.htm\n"
     ]
    }
   ],
   "source": [
    "l = []\n",
    "for i in soup.select('tr > td > b > font > a'):\n",
    "    #print(i)\n",
    "    link = i.get(\"href\")[7:].split(\"&\")\n",
    "    #print(type(link))\n",
    "    str1 = \"\".join(link)\n",
    "    #print(str1)\n",
    "    final = \"https://www.boxofficemojo.com/movies\" + str1\n",
    "    if \"/?id\" in final: \n",
    "        print (final)\n",
    "        l.append(final)"
   ]
  },
  {
   "cell_type": "code",
   "execution_count": 7,
   "metadata": {
    "scrolled": false
   },
   "outputs": [
    {
     "data": {
      "text/plain": [
       "['https://www.boxofficemojo.com/movies/?id=starwars8.htm',\n",
       " 'https://www.boxofficemojo.com/movies/?id=beautyandthebeast2017.htm',\n",
       " 'https://www.boxofficemojo.com/movies/?id=wonderwoman.htm',\n",
       " 'https://www.boxofficemojo.com/movies/?id=jumanji2016.htm',\n",
       " 'https://www.boxofficemojo.com/movies/?id=marvel17a.htm',\n",
       " 'https://www.boxofficemojo.com/movies/?id=spiderman2017.htm',\n",
       " 'https://www.boxofficemojo.com/movies/?id=it.htm',\n",
       " 'https://www.boxofficemojo.com/movies/?id=marvel2017.htm',\n",
       " 'https://www.boxofficemojo.com/movies/?id=despicableme3.htm',\n",
       " 'https://www.boxofficemojo.com/movies/?id=dcfilm1117.htm',\n",
       " 'https://www.boxofficemojo.com/movies/?id=wolverine2017.htm',\n",
       " 'https://www.boxofficemojo.com/movies/?id=furious8.htm',\n",
       " 'https://www.boxofficemojo.com/movies/?id=pixar1117.htm',\n",
       " 'https://www.boxofficemojo.com/movies/?id=chrisnolan2017.htm',\n",
       " 'https://www.boxofficemojo.com/movies/?id=blumhouse2.htm',\n",
       " 'https://www.boxofficemojo.com/movies/?id=lego2.htm',\n",
       " 'https://www.boxofficemojo.com/movies/?id=bossbaby.htm',\n",
       " 'https://www.boxofficemojo.com/movies/?id=greatestshowman.htm',\n",
       " 'https://www.boxofficemojo.com/movies/?id=potc5.htm',\n",
       " 'https://www.boxofficemojo.com/movies/?id=legendary2016.htm',\n",
       " 'https://www.boxofficemojo.com/movies/?id=cars3.htm',\n",
       " 'https://www.boxofficemojo.com/movies/?id=planetoftheapes16.htm',\n",
       " 'https://www.boxofficemojo.com/movies/?id=split2017.htm',\n",
       " 'https://www.boxofficemojo.com/movies/?id=wonder.htm',\n",
       " 'https://www.boxofficemojo.com/movies/?id=transformers5.htm',\n",
       " 'https://www.boxofficemojo.com/movies/?id=girltrip.htm',\n",
       " 'https://www.boxofficemojo.com/movies/?id=fiftyshadesdarker.htm',\n",
       " 'https://www.boxofficemojo.com/movies/?id=babydriver.htm',\n",
       " 'https://www.boxofficemojo.com/movies/?id=pitchperfect3.htm',\n",
       " 'https://www.boxofficemojo.com/movies/?id=daddyshome2.htm',\n",
       " 'https://www.boxofficemojo.com/movies/?id=murderorientexpress17.htm',\n",
       " 'https://www.boxofficemojo.com/movies/?id=annabelle2.htm',\n",
       " 'https://www.boxofficemojo.com/movies/?id=kingsman2.htm',\n",
       " 'https://www.boxofficemojo.com/movies/?id=bladerunnersequel.htm',\n",
       " 'https://www.boxofficemojo.com/movies/?id=johnwick2.htm',\n",
       " 'https://www.boxofficemojo.com/movies/?id=theemojimovie.htm',\n",
       " 'https://www.boxofficemojo.com/movies/?id=powerrangers16.htm',\n",
       " 'https://www.boxofficemojo.com/movies/?id=ferdinand.htm',\n",
       " 'https://www.boxofficemojo.com/movies/?id=untitledstevenspielberg.htm',\n",
       " 'https://www.boxofficemojo.com/movies/?id=mummy2016.htm',\n",
       " 'https://www.boxofficemojo.com/movies/?id=hitmansbodyguard.htm',\n",
       " 'https://www.boxofficemojo.com/movies/?id=alienparadiselost.htm',\n",
       " 'https://www.boxofficemojo.com/movies/?id=captainunderpants.htm',\n",
       " 'https://www.boxofficemojo.com/movies/?id=badmomschristmas.htm',\n",
       " 'https://www.boxofficemojo.com/movies/?id=adogspurpose.htm',\n",
       " 'https://www.boxofficemojo.com/movies/?id=theshapeofwater.htm',\n",
       " 'https://www.boxofficemojo.com/movies/?id=ninjago.htm',\n",
       " 'https://www.boxofficemojo.com/movies/?id=baywatch.htm',\n",
       " 'https://www.boxofficemojo.com/movies/?id=theshack.htm',\n",
       " 'https://www.boxofficemojo.com/movies/?id=darkesthour2017.htm',\n",
       " 'https://www.boxofficemojo.com/movies/?id=blumhousehorror2018.htm',\n",
       " 'https://www.boxofficemojo.com/movies/?id=threebillboards.htm',\n",
       " 'https://www.boxofficemojo.com/movies/?id=thecoldestcity.htm',\n",
       " 'https://www.boxofficemojo.com/movies/?id=mena.htm',\n",
       " 'https://www.boxofficemojo.com/movies/?id=darktower.htm',\n",
       " 'https://www.boxofficemojo.com/movies/?id=ladybird.htm',\n",
       " 'https://www.boxofficemojo.com/movies/?id=amadeahalloween2.htm',\n",
       " 'https://www.boxofficemojo.com/movies/?id=motherdaughter.htm',\n",
       " 'https://www.boxofficemojo.com/movies/?id=greatwall.htm',\n",
       " 'https://www.boxofficemojo.com/movies/?id=smurfs3.htm',\n",
       " 'https://www.boxofficemojo.com/movies/?id=goinginsty2017.htm',\n",
       " 'https://www.boxofficemojo.com/movies/?id=tupac.htm',\n",
       " 'https://www.boxofficemojo.com/movies/?id=xxx3.htm',\n",
       " 'https://www.boxofficemojo.com/movies/?id=47metersdown.htm',\n",
       " 'https://www.boxofficemojo.com/movies/?id=thebigsick.htm',\n",
       " 'https://www.boxofficemojo.com/movies/?id=valerian.htm',\n",
       " 'https://www.boxofficemojo.com/movies/?id=thelamb.htm',\n",
       " 'https://www.boxofficemojo.com/movies/?id=ghostintheshell2017.htm',\n",
       " 'https://www.boxofficemojo.com/movies/?id=kingarthur2016.htm',\n",
       " 'https://www.boxofficemojo.com/movies/?id=saw2017.htm',\n",
       " 'https://www.boxofficemojo.com/movies/?id=americanassassin.htm',\n",
       " 'https://www.boxofficemojo.com/movies/?id=theforeigner.htm',\n",
       " 'https://www.boxofficemojo.com/movies/?id=everythingeverything.htm',\n",
       " 'https://www.boxofficemojo.com/movies/?id=windriver.htm',\n",
       " 'https://www.boxofficemojo.com/movies/?id=geostorm.htm',\n",
       " 'https://www.boxofficemojo.com/movies/?id=monstertrucks.htm',\n",
       " 'https://www.boxofficemojo.com/movies/?id=fistfight.htm',\n",
       " 'https://www.boxofficemojo.com/movies/?id=howtobealatinlover.htm',\n",
       " 'https://www.boxofficemojo.com/movies/?id=kidnap2015.htm',\n",
       " 'https://www.boxofficemojo.com/movies/?id=underworld5.htm',\n",
       " 'https://www.boxofficemojo.com/movies/?id=mountainbetweenus.htm',\n",
       " 'https://www.boxofficemojo.com/movies/?id=life2017.htm',\n",
       " 'https://www.boxofficemojo.com/movies/?id=itonya.htm',\n",
       " 'https://www.boxofficemojo.com/movies/?id=hostiles.htm',\n",
       " 'https://www.boxofficemojo.com/movies/?id=mollysgame.htm',\n",
       " 'https://www.boxofficemojo.com/movies/?id=nutjob2.htm',\n",
       " 'https://www.boxofficemojo.com/movies/?id=rings.htm',\n",
       " 'https://www.boxofficemojo.com/movies/?id=loganlucky.htm',\n",
       " 'https://www.boxofficemojo.com/movies/?id=homeagain.htm',\n",
       " 'https://www.boxofficemojo.com/movies/?id=residentevil6.htm',\n",
       " 'https://www.boxofficemojo.com/movies/?id=thehouse.htm',\n",
       " 'https://www.boxofficemojo.com/movies/?id=allthemoneyintheworld.htm',\n",
       " 'https://www.boxofficemojo.com/movies/?id=gifted.htm',\n",
       " 'https://www.boxofficemojo.com/movies/?id=downsizing.htm',\n",
       " 'https://www.boxofficemojo.com/movies/?id=thebyebyeman.htm',\n",
       " 'https://www.boxofficemojo.com/movies/?id=victoriaandabdul.htm',\n",
       " 'https://www.boxofficemojo.com/movies/?id=rockthatbody.htm',\n",
       " 'https://www.boxofficemojo.com/movies/?id=mylittlepony2017.htm',\n",
       " 'https://www.boxofficemojo.com/movies/?id=leap.htm',\n",
       " 'https://www.boxofficemojo.com/movies/?id=thedisasterartist.htm']"
      ]
     },
     "execution_count": 7,
     "metadata": {},
     "output_type": "execute_result"
    }
   ],
   "source": [
    "l"
   ]
  },
  {
   "cell_type": "code",
   "execution_count": 8,
   "metadata": {},
   "outputs": [
    {
     "name": "stdout",
     "output_type": "stream",
     "text": [
      "620,181,382\n",
      "504,014,165\n",
      "412,563,408\n",
      "404,515,480\n",
      "389,813,101\n"
     ]
    },
    {
     "ename": "KeyboardInterrupt",
     "evalue": "",
     "output_type": "error",
     "traceback": [
      "\u001b[1;31m---------------------------------------------------------------------------\u001b[0m",
      "\u001b[1;31mTypeError\u001b[0m                                 Traceback (most recent call last)",
      "\u001b[1;32mC:\\ProgramData\\Anaconda3\\lib\\site-packages\\urllib3\\connectionpool.py\u001b[0m in \u001b[0;36m_make_request\u001b[1;34m(self, conn, method, url, timeout, chunked, **httplib_request_kw)\u001b[0m\n\u001b[0;32m    379\u001b[0m             \u001b[1;32mtry\u001b[0m\u001b[1;33m:\u001b[0m  \u001b[1;31m# Python 2.7, use buffering of HTTP responses\u001b[0m\u001b[1;33m\u001b[0m\u001b[0m\n\u001b[1;32m--> 380\u001b[1;33m                 \u001b[0mhttplib_response\u001b[0m \u001b[1;33m=\u001b[0m \u001b[0mconn\u001b[0m\u001b[1;33m.\u001b[0m\u001b[0mgetresponse\u001b[0m\u001b[1;33m(\u001b[0m\u001b[0mbuffering\u001b[0m\u001b[1;33m=\u001b[0m\u001b[1;32mTrue\u001b[0m\u001b[1;33m)\u001b[0m\u001b[1;33m\u001b[0m\u001b[0m\n\u001b[0m\u001b[0;32m    381\u001b[0m             \u001b[1;32mexcept\u001b[0m \u001b[0mTypeError\u001b[0m\u001b[1;33m:\u001b[0m  \u001b[1;31m# Python 2.6 and older, Python 3\u001b[0m\u001b[1;33m\u001b[0m\u001b[0m\n",
      "\u001b[1;31mTypeError\u001b[0m: getresponse() got an unexpected keyword argument 'buffering'",
      "\nDuring handling of the above exception, another exception occurred:\n",
      "\u001b[1;31mKeyboardInterrupt\u001b[0m                         Traceback (most recent call last)",
      "\u001b[1;32m<ipython-input-8-04e99636b9d8>\u001b[0m in \u001b[0;36m<module>\u001b[1;34m()\u001b[0m\n\u001b[0;32m      2\u001b[0m \u001b[1;32mwhile\u001b[0m\u001b[1;33m(\u001b[0m\u001b[0mk\u001b[0m\u001b[1;33m<\u001b[0m\u001b[0mlen\u001b[0m\u001b[1;33m(\u001b[0m\u001b[0ml\u001b[0m\u001b[1;33m)\u001b[0m\u001b[1;33m)\u001b[0m\u001b[1;33m:\u001b[0m\u001b[1;33m\u001b[0m\u001b[0m\n\u001b[0;32m      3\u001b[0m     \u001b[0mj\u001b[0m \u001b[1;33m=\u001b[0m \u001b[0ml\u001b[0m\u001b[1;33m[\u001b[0m\u001b[0mk\u001b[0m\u001b[1;33m]\u001b[0m\u001b[1;33m\u001b[0m\u001b[0m\n\u001b[1;32m----> 4\u001b[1;33m     \u001b[0mres1\u001b[0m \u001b[1;33m=\u001b[0m \u001b[0mrequests\u001b[0m\u001b[1;33m.\u001b[0m\u001b[0mget\u001b[0m\u001b[1;33m(\u001b[0m\u001b[0mj\u001b[0m\u001b[1;33m)\u001b[0m\u001b[1;33m\u001b[0m\u001b[0m\n\u001b[0m\u001b[0;32m      5\u001b[0m     \u001b[0msoup1\u001b[0m \u001b[1;33m=\u001b[0m \u001b[0mbs4\u001b[0m\u001b[1;33m.\u001b[0m\u001b[0mBeautifulSoup\u001b[0m\u001b[1;33m(\u001b[0m\u001b[0mres1\u001b[0m\u001b[1;33m.\u001b[0m\u001b[0mtext\u001b[0m\u001b[1;33m,\u001b[0m \u001b[1;34m'html.parser'\u001b[0m\u001b[1;33m)\u001b[0m\u001b[1;33m\u001b[0m\u001b[0m\n\u001b[0;32m      6\u001b[0m     \u001b[1;31m#print(type(soup))\u001b[0m\u001b[1;33m\u001b[0m\u001b[1;33m\u001b[0m\u001b[0m\n",
      "\u001b[1;32mC:\\ProgramData\\Anaconda3\\lib\\site-packages\\requests\\api.py\u001b[0m in \u001b[0;36mget\u001b[1;34m(url, params, **kwargs)\u001b[0m\n\u001b[0;32m     70\u001b[0m \u001b[1;33m\u001b[0m\u001b[0m\n\u001b[0;32m     71\u001b[0m     \u001b[0mkwargs\u001b[0m\u001b[1;33m.\u001b[0m\u001b[0msetdefault\u001b[0m\u001b[1;33m(\u001b[0m\u001b[1;34m'allow_redirects'\u001b[0m\u001b[1;33m,\u001b[0m \u001b[1;32mTrue\u001b[0m\u001b[1;33m)\u001b[0m\u001b[1;33m\u001b[0m\u001b[0m\n\u001b[1;32m---> 72\u001b[1;33m     \u001b[1;32mreturn\u001b[0m \u001b[0mrequest\u001b[0m\u001b[1;33m(\u001b[0m\u001b[1;34m'get'\u001b[0m\u001b[1;33m,\u001b[0m \u001b[0murl\u001b[0m\u001b[1;33m,\u001b[0m \u001b[0mparams\u001b[0m\u001b[1;33m=\u001b[0m\u001b[0mparams\u001b[0m\u001b[1;33m,\u001b[0m \u001b[1;33m**\u001b[0m\u001b[0mkwargs\u001b[0m\u001b[1;33m)\u001b[0m\u001b[1;33m\u001b[0m\u001b[0m\n\u001b[0m\u001b[0;32m     73\u001b[0m \u001b[1;33m\u001b[0m\u001b[0m\n\u001b[0;32m     74\u001b[0m \u001b[1;33m\u001b[0m\u001b[0m\n",
      "\u001b[1;32mC:\\ProgramData\\Anaconda3\\lib\\site-packages\\requests\\api.py\u001b[0m in \u001b[0;36mrequest\u001b[1;34m(method, url, **kwargs)\u001b[0m\n\u001b[0;32m     56\u001b[0m     \u001b[1;31m# cases, and look like a memory leak in others.\u001b[0m\u001b[1;33m\u001b[0m\u001b[1;33m\u001b[0m\u001b[0m\n\u001b[0;32m     57\u001b[0m     \u001b[1;32mwith\u001b[0m \u001b[0msessions\u001b[0m\u001b[1;33m.\u001b[0m\u001b[0mSession\u001b[0m\u001b[1;33m(\u001b[0m\u001b[1;33m)\u001b[0m \u001b[1;32mas\u001b[0m \u001b[0msession\u001b[0m\u001b[1;33m:\u001b[0m\u001b[1;33m\u001b[0m\u001b[0m\n\u001b[1;32m---> 58\u001b[1;33m         \u001b[1;32mreturn\u001b[0m \u001b[0msession\u001b[0m\u001b[1;33m.\u001b[0m\u001b[0mrequest\u001b[0m\u001b[1;33m(\u001b[0m\u001b[0mmethod\u001b[0m\u001b[1;33m=\u001b[0m\u001b[0mmethod\u001b[0m\u001b[1;33m,\u001b[0m \u001b[0murl\u001b[0m\u001b[1;33m=\u001b[0m\u001b[0murl\u001b[0m\u001b[1;33m,\u001b[0m \u001b[1;33m**\u001b[0m\u001b[0mkwargs\u001b[0m\u001b[1;33m)\u001b[0m\u001b[1;33m\u001b[0m\u001b[0m\n\u001b[0m\u001b[0;32m     59\u001b[0m \u001b[1;33m\u001b[0m\u001b[0m\n\u001b[0;32m     60\u001b[0m \u001b[1;33m\u001b[0m\u001b[0m\n",
      "\u001b[1;32mC:\\ProgramData\\Anaconda3\\lib\\site-packages\\requests\\sessions.py\u001b[0m in \u001b[0;36mrequest\u001b[1;34m(self, method, url, params, data, headers, cookies, files, auth, timeout, allow_redirects, proxies, hooks, stream, verify, cert, json)\u001b[0m\n\u001b[0;32m    506\u001b[0m         }\n\u001b[0;32m    507\u001b[0m         \u001b[0msend_kwargs\u001b[0m\u001b[1;33m.\u001b[0m\u001b[0mupdate\u001b[0m\u001b[1;33m(\u001b[0m\u001b[0msettings\u001b[0m\u001b[1;33m)\u001b[0m\u001b[1;33m\u001b[0m\u001b[0m\n\u001b[1;32m--> 508\u001b[1;33m         \u001b[0mresp\u001b[0m \u001b[1;33m=\u001b[0m \u001b[0mself\u001b[0m\u001b[1;33m.\u001b[0m\u001b[0msend\u001b[0m\u001b[1;33m(\u001b[0m\u001b[0mprep\u001b[0m\u001b[1;33m,\u001b[0m \u001b[1;33m**\u001b[0m\u001b[0msend_kwargs\u001b[0m\u001b[1;33m)\u001b[0m\u001b[1;33m\u001b[0m\u001b[0m\n\u001b[0m\u001b[0;32m    509\u001b[0m \u001b[1;33m\u001b[0m\u001b[0m\n\u001b[0;32m    510\u001b[0m         \u001b[1;32mreturn\u001b[0m \u001b[0mresp\u001b[0m\u001b[1;33m\u001b[0m\u001b[0m\n",
      "\u001b[1;32mC:\\ProgramData\\Anaconda3\\lib\\site-packages\\requests\\sessions.py\u001b[0m in \u001b[0;36msend\u001b[1;34m(self, request, **kwargs)\u001b[0m\n\u001b[0;32m    616\u001b[0m \u001b[1;33m\u001b[0m\u001b[0m\n\u001b[0;32m    617\u001b[0m         \u001b[1;31m# Send the request\u001b[0m\u001b[1;33m\u001b[0m\u001b[1;33m\u001b[0m\u001b[0m\n\u001b[1;32m--> 618\u001b[1;33m         \u001b[0mr\u001b[0m \u001b[1;33m=\u001b[0m \u001b[0madapter\u001b[0m\u001b[1;33m.\u001b[0m\u001b[0msend\u001b[0m\u001b[1;33m(\u001b[0m\u001b[0mrequest\u001b[0m\u001b[1;33m,\u001b[0m \u001b[1;33m**\u001b[0m\u001b[0mkwargs\u001b[0m\u001b[1;33m)\u001b[0m\u001b[1;33m\u001b[0m\u001b[0m\n\u001b[0m\u001b[0;32m    619\u001b[0m \u001b[1;33m\u001b[0m\u001b[0m\n\u001b[0;32m    620\u001b[0m         \u001b[1;31m# Total elapsed time of the request (approximately)\u001b[0m\u001b[1;33m\u001b[0m\u001b[1;33m\u001b[0m\u001b[0m\n",
      "\u001b[1;32mC:\\ProgramData\\Anaconda3\\lib\\site-packages\\requests\\adapters.py\u001b[0m in \u001b[0;36msend\u001b[1;34m(self, request, stream, timeout, verify, cert, proxies)\u001b[0m\n\u001b[0;32m    438\u001b[0m                     \u001b[0mdecode_content\u001b[0m\u001b[1;33m=\u001b[0m\u001b[1;32mFalse\u001b[0m\u001b[1;33m,\u001b[0m\u001b[1;33m\u001b[0m\u001b[0m\n\u001b[0;32m    439\u001b[0m                     \u001b[0mretries\u001b[0m\u001b[1;33m=\u001b[0m\u001b[0mself\u001b[0m\u001b[1;33m.\u001b[0m\u001b[0mmax_retries\u001b[0m\u001b[1;33m,\u001b[0m\u001b[1;33m\u001b[0m\u001b[0m\n\u001b[1;32m--> 440\u001b[1;33m                     \u001b[0mtimeout\u001b[0m\u001b[1;33m=\u001b[0m\u001b[0mtimeout\u001b[0m\u001b[1;33m\u001b[0m\u001b[0m\n\u001b[0m\u001b[0;32m    441\u001b[0m                 )\n\u001b[0;32m    442\u001b[0m \u001b[1;33m\u001b[0m\u001b[0m\n",
      "\u001b[1;32mC:\\ProgramData\\Anaconda3\\lib\\site-packages\\urllib3\\connectionpool.py\u001b[0m in \u001b[0;36murlopen\u001b[1;34m(self, method, url, body, headers, retries, redirect, assert_same_host, timeout, pool_timeout, release_conn, chunked, body_pos, **response_kw)\u001b[0m\n\u001b[0;32m    599\u001b[0m                                                   \u001b[0mtimeout\u001b[0m\u001b[1;33m=\u001b[0m\u001b[0mtimeout_obj\u001b[0m\u001b[1;33m,\u001b[0m\u001b[1;33m\u001b[0m\u001b[0m\n\u001b[0;32m    600\u001b[0m                                                   \u001b[0mbody\u001b[0m\u001b[1;33m=\u001b[0m\u001b[0mbody\u001b[0m\u001b[1;33m,\u001b[0m \u001b[0mheaders\u001b[0m\u001b[1;33m=\u001b[0m\u001b[0mheaders\u001b[0m\u001b[1;33m,\u001b[0m\u001b[1;33m\u001b[0m\u001b[0m\n\u001b[1;32m--> 601\u001b[1;33m                                                   chunked=chunked)\n\u001b[0m\u001b[0;32m    602\u001b[0m \u001b[1;33m\u001b[0m\u001b[0m\n\u001b[0;32m    603\u001b[0m             \u001b[1;31m# If we're going to release the connection in ``finally:``, then\u001b[0m\u001b[1;33m\u001b[0m\u001b[1;33m\u001b[0m\u001b[0m\n",
      "\u001b[1;32mC:\\ProgramData\\Anaconda3\\lib\\site-packages\\urllib3\\connectionpool.py\u001b[0m in \u001b[0;36m_make_request\u001b[1;34m(self, conn, method, url, timeout, chunked, **httplib_request_kw)\u001b[0m\n\u001b[0;32m    381\u001b[0m             \u001b[1;32mexcept\u001b[0m \u001b[0mTypeError\u001b[0m\u001b[1;33m:\u001b[0m  \u001b[1;31m# Python 2.6 and older, Python 3\u001b[0m\u001b[1;33m\u001b[0m\u001b[0m\n\u001b[0;32m    382\u001b[0m                 \u001b[1;32mtry\u001b[0m\u001b[1;33m:\u001b[0m\u001b[1;33m\u001b[0m\u001b[0m\n\u001b[1;32m--> 383\u001b[1;33m                     \u001b[0mhttplib_response\u001b[0m \u001b[1;33m=\u001b[0m \u001b[0mconn\u001b[0m\u001b[1;33m.\u001b[0m\u001b[0mgetresponse\u001b[0m\u001b[1;33m(\u001b[0m\u001b[1;33m)\u001b[0m\u001b[1;33m\u001b[0m\u001b[0m\n\u001b[0m\u001b[0;32m    384\u001b[0m                 \u001b[1;32mexcept\u001b[0m \u001b[0mException\u001b[0m \u001b[1;32mas\u001b[0m \u001b[0me\u001b[0m\u001b[1;33m:\u001b[0m\u001b[1;33m\u001b[0m\u001b[0m\n\u001b[0;32m    385\u001b[0m                     \u001b[1;31m# Remove the TypeError from the exception chain in Python 3;\u001b[0m\u001b[1;33m\u001b[0m\u001b[1;33m\u001b[0m\u001b[0m\n",
      "\u001b[1;32mC:\\ProgramData\\Anaconda3\\lib\\http\\client.py\u001b[0m in \u001b[0;36mgetresponse\u001b[1;34m(self)\u001b[0m\n\u001b[0;32m   1329\u001b[0m         \u001b[1;32mtry\u001b[0m\u001b[1;33m:\u001b[0m\u001b[1;33m\u001b[0m\u001b[0m\n\u001b[0;32m   1330\u001b[0m             \u001b[1;32mtry\u001b[0m\u001b[1;33m:\u001b[0m\u001b[1;33m\u001b[0m\u001b[0m\n\u001b[1;32m-> 1331\u001b[1;33m                 \u001b[0mresponse\u001b[0m\u001b[1;33m.\u001b[0m\u001b[0mbegin\u001b[0m\u001b[1;33m(\u001b[0m\u001b[1;33m)\u001b[0m\u001b[1;33m\u001b[0m\u001b[0m\n\u001b[0m\u001b[0;32m   1332\u001b[0m             \u001b[1;32mexcept\u001b[0m \u001b[0mConnectionError\u001b[0m\u001b[1;33m:\u001b[0m\u001b[1;33m\u001b[0m\u001b[0m\n\u001b[0;32m   1333\u001b[0m                 \u001b[0mself\u001b[0m\u001b[1;33m.\u001b[0m\u001b[0mclose\u001b[0m\u001b[1;33m(\u001b[0m\u001b[1;33m)\u001b[0m\u001b[1;33m\u001b[0m\u001b[0m\n",
      "\u001b[1;32mC:\\ProgramData\\Anaconda3\\lib\\http\\client.py\u001b[0m in \u001b[0;36mbegin\u001b[1;34m(self)\u001b[0m\n\u001b[0;32m    295\u001b[0m         \u001b[1;31m# read until we get a non-100 response\u001b[0m\u001b[1;33m\u001b[0m\u001b[1;33m\u001b[0m\u001b[0m\n\u001b[0;32m    296\u001b[0m         \u001b[1;32mwhile\u001b[0m \u001b[1;32mTrue\u001b[0m\u001b[1;33m:\u001b[0m\u001b[1;33m\u001b[0m\u001b[0m\n\u001b[1;32m--> 297\u001b[1;33m             \u001b[0mversion\u001b[0m\u001b[1;33m,\u001b[0m \u001b[0mstatus\u001b[0m\u001b[1;33m,\u001b[0m \u001b[0mreason\u001b[0m \u001b[1;33m=\u001b[0m \u001b[0mself\u001b[0m\u001b[1;33m.\u001b[0m\u001b[0m_read_status\u001b[0m\u001b[1;33m(\u001b[0m\u001b[1;33m)\u001b[0m\u001b[1;33m\u001b[0m\u001b[0m\n\u001b[0m\u001b[0;32m    298\u001b[0m             \u001b[1;32mif\u001b[0m \u001b[0mstatus\u001b[0m \u001b[1;33m!=\u001b[0m \u001b[0mCONTINUE\u001b[0m\u001b[1;33m:\u001b[0m\u001b[1;33m\u001b[0m\u001b[0m\n\u001b[0;32m    299\u001b[0m                 \u001b[1;32mbreak\u001b[0m\u001b[1;33m\u001b[0m\u001b[0m\n",
      "\u001b[1;32mC:\\ProgramData\\Anaconda3\\lib\\http\\client.py\u001b[0m in \u001b[0;36m_read_status\u001b[1;34m(self)\u001b[0m\n\u001b[0;32m    256\u001b[0m \u001b[1;33m\u001b[0m\u001b[0m\n\u001b[0;32m    257\u001b[0m     \u001b[1;32mdef\u001b[0m \u001b[0m_read_status\u001b[0m\u001b[1;33m(\u001b[0m\u001b[0mself\u001b[0m\u001b[1;33m)\u001b[0m\u001b[1;33m:\u001b[0m\u001b[1;33m\u001b[0m\u001b[0m\n\u001b[1;32m--> 258\u001b[1;33m         \u001b[0mline\u001b[0m \u001b[1;33m=\u001b[0m \u001b[0mstr\u001b[0m\u001b[1;33m(\u001b[0m\u001b[0mself\u001b[0m\u001b[1;33m.\u001b[0m\u001b[0mfp\u001b[0m\u001b[1;33m.\u001b[0m\u001b[0mreadline\u001b[0m\u001b[1;33m(\u001b[0m\u001b[0m_MAXLINE\u001b[0m \u001b[1;33m+\u001b[0m \u001b[1;36m1\u001b[0m\u001b[1;33m)\u001b[0m\u001b[1;33m,\u001b[0m \u001b[1;34m\"iso-8859-1\"\u001b[0m\u001b[1;33m)\u001b[0m\u001b[1;33m\u001b[0m\u001b[0m\n\u001b[0m\u001b[0;32m    259\u001b[0m         \u001b[1;32mif\u001b[0m \u001b[0mlen\u001b[0m\u001b[1;33m(\u001b[0m\u001b[0mline\u001b[0m\u001b[1;33m)\u001b[0m \u001b[1;33m>\u001b[0m \u001b[0m_MAXLINE\u001b[0m\u001b[1;33m:\u001b[0m\u001b[1;33m\u001b[0m\u001b[0m\n\u001b[0;32m    260\u001b[0m             \u001b[1;32mraise\u001b[0m \u001b[0mLineTooLong\u001b[0m\u001b[1;33m(\u001b[0m\u001b[1;34m\"status line\"\u001b[0m\u001b[1;33m)\u001b[0m\u001b[1;33m\u001b[0m\u001b[0m\n",
      "\u001b[1;32mC:\\ProgramData\\Anaconda3\\lib\\socket.py\u001b[0m in \u001b[0;36mreadinto\u001b[1;34m(self, b)\u001b[0m\n\u001b[0;32m    584\u001b[0m         \u001b[1;32mwhile\u001b[0m \u001b[1;32mTrue\u001b[0m\u001b[1;33m:\u001b[0m\u001b[1;33m\u001b[0m\u001b[0m\n\u001b[0;32m    585\u001b[0m             \u001b[1;32mtry\u001b[0m\u001b[1;33m:\u001b[0m\u001b[1;33m\u001b[0m\u001b[0m\n\u001b[1;32m--> 586\u001b[1;33m                 \u001b[1;32mreturn\u001b[0m \u001b[0mself\u001b[0m\u001b[1;33m.\u001b[0m\u001b[0m_sock\u001b[0m\u001b[1;33m.\u001b[0m\u001b[0mrecv_into\u001b[0m\u001b[1;33m(\u001b[0m\u001b[0mb\u001b[0m\u001b[1;33m)\u001b[0m\u001b[1;33m\u001b[0m\u001b[0m\n\u001b[0m\u001b[0;32m    587\u001b[0m             \u001b[1;32mexcept\u001b[0m \u001b[0mtimeout\u001b[0m\u001b[1;33m:\u001b[0m\u001b[1;33m\u001b[0m\u001b[0m\n\u001b[0;32m    588\u001b[0m                 \u001b[0mself\u001b[0m\u001b[1;33m.\u001b[0m\u001b[0m_timeout_occurred\u001b[0m \u001b[1;33m=\u001b[0m \u001b[1;32mTrue\u001b[0m\u001b[1;33m\u001b[0m\u001b[0m\n",
      "\u001b[1;32mC:\\ProgramData\\Anaconda3\\lib\\site-packages\\urllib3\\contrib\\pyopenssl.py\u001b[0m in \u001b[0;36mrecv_into\u001b[1;34m(self, *args, **kwargs)\u001b[0m\n\u001b[0;32m    278\u001b[0m     \u001b[1;32mdef\u001b[0m \u001b[0mrecv_into\u001b[0m\u001b[1;33m(\u001b[0m\u001b[0mself\u001b[0m\u001b[1;33m,\u001b[0m \u001b[1;33m*\u001b[0m\u001b[0margs\u001b[0m\u001b[1;33m,\u001b[0m \u001b[1;33m**\u001b[0m\u001b[0mkwargs\u001b[0m\u001b[1;33m)\u001b[0m\u001b[1;33m:\u001b[0m\u001b[1;33m\u001b[0m\u001b[0m\n\u001b[0;32m    279\u001b[0m         \u001b[1;32mtry\u001b[0m\u001b[1;33m:\u001b[0m\u001b[1;33m\u001b[0m\u001b[0m\n\u001b[1;32m--> 280\u001b[1;33m             \u001b[1;32mreturn\u001b[0m \u001b[0mself\u001b[0m\u001b[1;33m.\u001b[0m\u001b[0mconnection\u001b[0m\u001b[1;33m.\u001b[0m\u001b[0mrecv_into\u001b[0m\u001b[1;33m(\u001b[0m\u001b[1;33m*\u001b[0m\u001b[0margs\u001b[0m\u001b[1;33m,\u001b[0m \u001b[1;33m**\u001b[0m\u001b[0mkwargs\u001b[0m\u001b[1;33m)\u001b[0m\u001b[1;33m\u001b[0m\u001b[0m\n\u001b[0m\u001b[0;32m    281\u001b[0m         \u001b[1;32mexcept\u001b[0m \u001b[0mOpenSSL\u001b[0m\u001b[1;33m.\u001b[0m\u001b[0mSSL\u001b[0m\u001b[1;33m.\u001b[0m\u001b[0mSysCallError\u001b[0m \u001b[1;32mas\u001b[0m \u001b[0me\u001b[0m\u001b[1;33m:\u001b[0m\u001b[1;33m\u001b[0m\u001b[0m\n\u001b[0;32m    282\u001b[0m             \u001b[1;32mif\u001b[0m \u001b[0mself\u001b[0m\u001b[1;33m.\u001b[0m\u001b[0msuppress_ragged_eofs\u001b[0m \u001b[1;32mand\u001b[0m \u001b[0me\u001b[0m\u001b[1;33m.\u001b[0m\u001b[0margs\u001b[0m \u001b[1;33m==\u001b[0m \u001b[1;33m(\u001b[0m\u001b[1;33m-\u001b[0m\u001b[1;36m1\u001b[0m\u001b[1;33m,\u001b[0m \u001b[1;34m'Unexpected EOF'\u001b[0m\u001b[1;33m)\u001b[0m\u001b[1;33m:\u001b[0m\u001b[1;33m\u001b[0m\u001b[0m\n",
      "\u001b[1;32mC:\\ProgramData\\Anaconda3\\lib\\site-packages\\OpenSSL\\SSL.py\u001b[0m in \u001b[0;36mrecv_into\u001b[1;34m(self, buffer, nbytes, flags)\u001b[0m\n\u001b[0;32m   1622\u001b[0m             \u001b[0mresult\u001b[0m \u001b[1;33m=\u001b[0m \u001b[0m_lib\u001b[0m\u001b[1;33m.\u001b[0m\u001b[0mSSL_peek\u001b[0m\u001b[1;33m(\u001b[0m\u001b[0mself\u001b[0m\u001b[1;33m.\u001b[0m\u001b[0m_ssl\u001b[0m\u001b[1;33m,\u001b[0m \u001b[0mbuf\u001b[0m\u001b[1;33m,\u001b[0m \u001b[0mnbytes\u001b[0m\u001b[1;33m)\u001b[0m\u001b[1;33m\u001b[0m\u001b[0m\n\u001b[0;32m   1623\u001b[0m         \u001b[1;32melse\u001b[0m\u001b[1;33m:\u001b[0m\u001b[1;33m\u001b[0m\u001b[0m\n\u001b[1;32m-> 1624\u001b[1;33m             \u001b[0mresult\u001b[0m \u001b[1;33m=\u001b[0m \u001b[0m_lib\u001b[0m\u001b[1;33m.\u001b[0m\u001b[0mSSL_read\u001b[0m\u001b[1;33m(\u001b[0m\u001b[0mself\u001b[0m\u001b[1;33m.\u001b[0m\u001b[0m_ssl\u001b[0m\u001b[1;33m,\u001b[0m \u001b[0mbuf\u001b[0m\u001b[1;33m,\u001b[0m \u001b[0mnbytes\u001b[0m\u001b[1;33m)\u001b[0m\u001b[1;33m\u001b[0m\u001b[0m\n\u001b[0m\u001b[0;32m   1625\u001b[0m         \u001b[0mself\u001b[0m\u001b[1;33m.\u001b[0m\u001b[0m_raise_ssl_error\u001b[0m\u001b[1;33m(\u001b[0m\u001b[0mself\u001b[0m\u001b[1;33m.\u001b[0m\u001b[0m_ssl\u001b[0m\u001b[1;33m,\u001b[0m \u001b[0mresult\u001b[0m\u001b[1;33m)\u001b[0m\u001b[1;33m\u001b[0m\u001b[0m\n\u001b[0;32m   1626\u001b[0m \u001b[1;33m\u001b[0m\u001b[0m\n",
      "\u001b[1;31mKeyboardInterrupt\u001b[0m: "
     ]
    }
   ],
   "source": [
    "k=0\n",
    "while(k<len(l)):\n",
    "    j = l[k]\n",
    "    res1 = requests.get(j)\n",
    "    soup1 = bs4.BeautifulSoup(res1.text, 'html.parser')\n",
    "    #print(type(soup))\n",
    "    domestic = soup1.select('td[width=\"35%\"]')\n",
    "    c = str(domestic[0].select('b'))[5:-5]\n",
    "    print(c)\n",
    "    k+=1\n",
    "   "
   ]
  },
  {
   "cell_type": "markdown",
   "metadata": {},
   "source": []
  },
  {
   "cell_type": "code",
   "execution_count": null,
   "metadata": {
    "collapsed": true
   },
   "outputs": [],
   "source": []
  },
  {
   "cell_type": "code",
   "execution_count": null,
   "metadata": {
    "collapsed": true
   },
   "outputs": [],
   "source": []
  },
  {
   "cell_type": "code",
   "execution_count": null,
   "metadata": {
    "collapsed": true
   },
   "outputs": [],
   "source": []
  }
 ],
 "metadata": {
  "kernelspec": {
   "display_name": "Python 3",
   "language": "python",
   "name": "python3"
  },
  "language_info": {
   "codemirror_mode": {
    "name": "ipython",
    "version": 3
   },
   "file_extension": ".py",
   "mimetype": "text/x-python",
   "name": "python",
   "nbconvert_exporter": "python",
   "pygments_lexer": "ipython3",
   "version": "3.6.3"
  }
 },
 "nbformat": 4,
 "nbformat_minor": 2
}
